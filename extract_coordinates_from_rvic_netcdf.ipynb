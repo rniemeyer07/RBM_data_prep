{
 "cells": [
  {
   "cell_type": "code",
   "execution_count": null,
   "metadata": {
    "collapsed": true
   },
   "outputs": [],
   "source": [
    "\n",
    "# ----------------------------------------------------------------------------------------------------------\n",
    "#\n",
    "#            Script to get coordinates from RVIC netcdf output\n",
    "#                                     March 2016\n",
    "#                                    Ryan Niemeyer\n",
    "#\n",
    "# ----------------------------------------------------------------------------------------------------------\n"
   ]
  },
  {
   "cell_type": "code",
   "execution_count": 61,
   "metadata": {
    "collapsed": false
   },
   "outputs": [],
   "source": [
    "%matplotlib inline\n",
    "\n",
    "import os\n",
    "import numpy as np\n",
    "import pandas as pd\n",
    "from mpl_toolkits.basemap import Basemap as bm\n",
    "import matplotlib.pyplot as plt\n",
    "import xarray as xr"
   ]
  },
  {
   "cell_type": "code",
   "execution_count": 51,
   "metadata": {
    "collapsed": false
   },
   "outputs": [
    {
     "data": {
      "text/plain": [
       "'/home/raid3/rniemeyr/practice'"
      ]
     },
     "execution_count": 51,
     "metadata": {},
     "output_type": "execute_result"
    }
   ],
   "source": [
    "pwd()"
   ]
  },
  {
   "cell_type": "code",
   "execution_count": 21,
   "metadata": {
    "collapsed": false
   },
   "outputs": [],
   "source": [
    "# dset = xray.open_dataset(\"/raid2/ymao/VIC_RBM_east_RIPS/RIPS/model_run/param/RVIC/Wu_8th/Tennessee/param_run_output_grid/temp/remapped/ncview remapUH_36.0625_-83.6875.nc\"                \n",
    "startdate = '1991-10-01'\n",
    "enddate = '2001-09-30'\n",
    "energy_fluxes = xr.open_dataset(\"/raid2/ymao/VIC_RBM_east_RIPS/RIPS/model_run/output/vic/Tennessee.calibrated_1961_1970/run_1949_2010.Tennessee.21dams.adjust_negative.bug_fixed/nc/energy.19490101-20101231.nc\")\n",
    "flow_fluxes = xr.open_dataset(\"/raid2/ymao/VIC_RBM_east_RIPS/RIPS/model_run/output/vic/Tennessee.calibrated_1961_1970/run_1949_2010.Tennessee.21dams.adjust_negative.bug_fixed/nc/flow.19490101-20101231.nc\")\n",
    "mask = xr.open_dataset(\"/raid2/ymao/VIC_RBM_east_RIPS/RIPS/model_run/param/RVIC/Wu_8th/Tennessee/param_run_output_grid/temp/remapped/remapUH_36.0625_-83.6875.nc\")\n"
   ]
  },
  {
   "cell_type": "code",
   "execution_count": 63,
   "metadata": {
    "collapsed": true
   },
   "outputs": [],
   "source": [
    "# cre\n",
    "\n",
    "energy_fluxes = energy_fluxes.where(mask.fraction).sel(lat=slice(36,37), lon=slice(-83.75,-81.5),\n",
    "                                                              time=pd.date_range(start=startdate, end=enddate))\n",
    "\n",
    "flow_fluxes = flow_fluxes.where(mask.fraction).sel(lat=slice(36,37), lon=slice(-83.75,-81.5),\n",
    "                                                              time=pd.date_range(start=startdate, end=enddate))"
   ]
  },
  {
   "cell_type": "code",
   "execution_count": 35,
   "metadata": {
    "collapsed": true
   },
   "outputs": [],
   "source": [
    "data = energy_fluxes['Shortwave'].sel(lat=slice(36,37), lon=slice(-83.75,-81.5),\n",
    "                                       time=pd.date_range(start=startdate, end=enddate)).mean(dim='time')"
   ]
  },
  {
   "cell_type": "code",
   "execution_count": 73,
   "metadata": {
    "collapsed": true
   },
   "outputs": [],
   "source": [
    "data = flow_fluxes['Runoff'].sel(lat=slice(36,37), lon=slice(-83.75,-81.5),\n",
    "                                       time=pd.date_range(start=startdate, end=enddate)).mean(dim='time')"
   ]
  },
  {
   "cell_type": "code",
   "execution_count": 57,
   "metadata": {
    "collapsed": false
   },
   "outputs": [
    {
     "data": {
      "text/plain": [
       "<xarray.DataArray 'Shortwave' (lat: 8, lon: 18)>\n",
       "array([[ 184.76238195,  181.82316547,           nan,           nan,\n",
       "                  nan,           nan,           nan,           nan,\n",
       "                  nan,           nan,           nan,           nan,\n",
       "                  nan,           nan,           nan,           nan,\n",
       "                  nan,           nan],\n",
       "       [ 179.54975237,  179.56135654,  179.52926512,  182.01857037,\n",
       "                  nan,           nan,           nan,           nan,\n",
       "                  nan,           nan,           nan,           nan,\n",
       "         183.10062134,  180.47729963,  180.30306958,  182.31573086,\n",
       "                  nan,           nan],\n",
       "       [          nan,           nan,  180.735345  ,  179.68632879,\n",
       "         180.12365998,  182.73416428,  184.33115462,           nan,\n",
       "                  nan,           nan,  184.15966411,  183.63815785,\n",
       "         183.43453484,  181.42297729,  181.0097593 ,  186.54591896,\n",
       "                  nan,           nan],\n",
       "       [          nan,           nan,           nan,           nan,\n",
       "         181.37706922,  183.2498196 ,  184.67974348,  184.77160031,\n",
       "         185.38825163,  182.471407  ,  182.40664883,  183.47948766,\n",
       "         184.35872542,  187.44477124,  187.95429047,  191.5001852 ,\n",
       "                  nan,           nan],\n",
       "       [          nan,           nan,           nan,           nan,\n",
       "                  nan,           nan,           nan,           nan,\n",
       "         183.7483235 ,  181.54675251,  183.08258924,  183.84036689,\n",
       "         184.16611632,  184.86954317,  187.66226949,  192.00204499,\n",
       "                  nan,           nan],\n",
       "       [          nan,           nan,           nan,           nan,\n",
       "                  nan,           nan,           nan,           nan,\n",
       "                  nan,           nan,  178.90938498,  183.52903413,\n",
       "         184.68867128,  186.35286902,  188.55835347,  188.80401579,\n",
       "         191.66686526,  195.49886115],\n",
       "       [          nan,           nan,           nan,           nan,\n",
       "                  nan,           nan,           nan,           nan,\n",
       "                  nan,           nan,           nan,  181.76392974,\n",
       "         183.32070933,  185.24010654,  188.598796  ,  186.58631774,\n",
       "         186.95710168,  187.22039244],\n",
       "       [          nan,           nan,           nan,           nan,\n",
       "                  nan,           nan,           nan,           nan,\n",
       "                  nan,           nan,           nan,           nan,\n",
       "                  nan,           nan,           nan,  189.85899712,\n",
       "         186.77436599,  186.07497032]])\n",
       "Coordinates:\n",
       "  * lat      (lat) float64 36.06 36.19 36.31 36.44 36.56 36.69 36.81 36.94\n",
       "  * lon      (lon) float64 -83.69 -83.56 -83.44 -83.31 -83.19 -83.06 -82.94 ..."
      ]
     },
     "execution_count": 57,
     "metadata": {},
     "output_type": "execute_result"
    }
   ],
   "source": []
  },
  {
   "cell_type": "code",
   "execution_count": 74,
   "metadata": {
    "collapsed": false
   },
   "outputs": [
    {
     "data": {
      "text/plain": [
       "<matplotlib.collections.QuadMesh at 0x2b74bae50f60>"
      ]
     },
     "execution_count": 74,
     "metadata": {},
     "output_type": "execute_result"
    },
    {
     "data": {
      "image/png": "[encoded data removed]",
      "text/plain": [
       "<matplotlib.figure.Figure at 0x2b74bad58048>"
      ]
     },
     "metadata": {},
     "output_type": "display_data"
    }
   ],
   "source": [
    "# fig, axarr = plt.subplots(1,1, figsize=(20,4))\n",
    "\n",
    "\n",
    "data.plot(cmap=plt.cm.Blues )\n",
    "\n",
    "# div = make_axes_locatable(ax)\n",
    "# ax.set_title(variable)\n",
    "# cax = div.append_axes(\"right\", size=\"8%\", pad=0.05)\n",
    "# cbar = plt.colorbar(plot, cax=cax)\n",
    "# cbar.set_label(variable+' [mm/day]')\n",
    "\n"
   ]
  },
  {
   "cell_type": "code",
   "execution_count": null,
   "metadata": {
    "collapsed": true
   },
   "outputs": [],
   "source": [
    "variables = ['Precipitation', 'Baseflow', 'Runoff', 'Evaporation', 'Inverse Runoff']\n",
    "fig, axarr = plt.subplots(1,5, figsize=(20,4))\n",
    "for i,variable in enumerate(variables):\n",
    "    ax = axarr[i]\n",
    "    \n",
    "    if variable=='Inverse Runoff':\n",
    "        data = inverse_runoff_masked.sel(lat=slice(42.4,44.8), lon=slice(-113.2,-109.75),\n",
    "                                     time=pd.date_range(start=startdate, end=enddate)).mean(dim='time')\n",
    "    else:\n",
    "        data = calibrated_fluxes[variable].sel(lat=slice(42.4,44.8), lon=slice(-113.2,-109.75),\n",
    "                             time=pd.date_range(start=startdate, end=enddate)).mean(dim='time')\n",
    "#     data = data.where(mask)\n",
    "    plot = data.plot(ax=ax, add_colorbar=False)\n",
    "    div = make_axes_locatable(ax)\n",
    "    ax.set_title(variable)\n",
    "    cax = div.append_axes(\"right\", size=\"8%\", pad=0.05)\n",
    "    cbar = plt.colorbar(plot, cax=cax)\n",
    "    cbar.set_label(variable+' [mm/day]')\n",
    "plt.suptitle('Water balance terms for area upstream of the Snake at American Falls (avg. WY 1992-2001)', fontsize=16)\n",
    "\n",
    "plt.tight_layout()\n",
    "plt.subplots_adjust(top=0.87)\n",
    "plt.savefig(fig_dir+datestamp()+'_AMFI_waterbalance_variables.png')"
   ]
  },
  {
   "cell_type": "code",
   "execution_count": 64,
   "metadata": {
    "collapsed": false
   },
   "outputs": [
    {
     "data": {
      "text/plain": [
       "Data variables:\n",
       "    frac           (lat, lon) float64 1.0 1.0 nan nan nan nan nan nan nan ...\n",
       "    mask           (lat, lon) float64 1.0 1.0 nan nan nan nan nan nan nan ...\n",
       "    area           (lat, lon) float64 1.562e+08 1.562e+08 nan nan nan nan ...\n",
       "    Precipitation  (time, lat, lon) float64 0.0 0.0 nan nan nan nan nan nan ...\n",
       "    Evaporation    (time, lat, lon) float64 2.0 1.643 nan nan nan nan nan ...\n",
       "    Runoff         (time, lat, lon) float64 0.0 0.0 nan nan nan nan nan nan ...\n",
       "    Baseflow       (time, lat, lon) float64 0.0077 0.0236 nan nan nan nan ..."
      ]
     },
     "execution_count": 64,
     "metadata": {},
     "output_type": "execute_result"
    }
   ],
   "source": [
    "energy_fluxes.data_vars\n",
    "flow_fluxes.data_vars"
   ]
  },
  {
   "cell_type": "code",
   "execution_count": 31,
   "metadata": {
    "collapsed": false
   },
   "outputs": [
    {
     "data": {
      "text/plain": [
       "xarray.core.dataset.Dataset"
      ]
     },
     "execution_count": 31,
     "metadata": {},
     "output_type": "execute_result"
    }
   ],
   "source": [
    "type(flow_fluxes)"
   ]
  }
 ],
 "metadata": {
  "kernelspec": {
   "display_name": "Python 3",
   "language": "python",
   "name": "python3"
  },
  "language_info": {
   "codemirror_mode": {
    "name": "ipython",
    "version": 3
   },
   "file_extension": ".py",
   "mimetype": "text/x-python",
   "name": "python",
   "nbconvert_exporter": "python",
   "pygments_lexer": "ipython3",
   "version": "3.5.1"
  }
 },
 "nbformat": 4,
 "nbformat_minor": 0
}
